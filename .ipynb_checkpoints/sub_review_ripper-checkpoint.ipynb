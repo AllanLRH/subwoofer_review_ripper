{
 "cells": [
  {
   "cell_type": "code",
   "execution_count": 49,
   "metadata": {},
   "outputs": [],
   "source": [
    "import requests\n",
    "import pandas as pd\n",
    "from bs4 import BeautifulSoup\n",
    "from dateutil.parser import parse as dateparse\n",
    "import matplotlib as mpl\n",
    "import matplotlib.pyplot as plt\n",
    "mpl.rcParams['text.usetex'] = False\n",
    "import seaborn as sns\n",
    "%matplotlib inline"
   ]
  },
  {
   "cell_type": "code",
   "execution_count": 2,
   "metadata": {},
   "outputs": [],
   "source": [
    "url_page_template = 'http://www.audioreview.com/product/speakers/subwoofers/b-and-w/asw-1000.html?p=%d'"
   ]
  },
  {
   "cell_type": "code",
   "execution_count": 3,
   "metadata": {},
   "outputs": [],
   "source": [
    "def get_soup(url, pg):\n",
    "    u = url % pg\n",
    "    r = requests.get(u)\n",
    "    r.raise_for_status()\n",
    "    return BeautifulSoup(r.text, 'lxml')"
   ]
  },
  {
   "cell_type": "code",
   "execution_count": 4,
   "metadata": {},
   "outputs": [],
   "source": [
    "def extract(s0):\n",
    "    s0 = get_soup(url_page_template, 1)\n",
    "    s1 = s0.find_all('table', id='user-review-desktop')\n",
    "    lst = list()\n",
    "    for tmp in s1:\n",
    "        dct = dict()\n",
    "        tmp2 = tmp.find_all('div', class_='user-review-header')\n",
    "        dct['user_classification'] = tmp2[0].find('span').text\n",
    "        dct['review'] = tmp2[1].find('p').text\n",
    "        overall, value = [int(el.text) for el in tmp.find_all('td', class_='rate')]\n",
    "        dct['overall'] = overall\n",
    "        dct['value'] = value\n",
    "        lst.append(dct)\n",
    "    return lst"
   ]
  },
  {
   "cell_type": "code",
   "execution_count": 5,
   "metadata": {},
   "outputs": [
    {
     "name": "stdout",
     "output_type": "stream",
     "text": [
      "1\n",
      "2\n",
      "3\n",
      "4\n",
      "5\n"
     ]
    }
   ],
   "source": [
    "lst = list()\n",
    "for pg in range(1, 6):\n",
    "    print(pg)\n",
    "    s0 = get_soup(url_page_template, pg)\n",
    "    lst += extract(s0)\n",
    "    "
   ]
  },
  {
   "cell_type": "code",
   "execution_count": 6,
   "metadata": {},
   "outputs": [
    {
     "data": {
      "text/html": [
       "<div>\n",
       "<style scoped>\n",
       "    .dataframe tbody tr th:only-of-type {\n",
       "        vertical-align: middle;\n",
       "    }\n",
       "\n",
       "    .dataframe tbody tr th {\n",
       "        vertical-align: top;\n",
       "    }\n",
       "\n",
       "    .dataframe thead th {\n",
       "        text-align: right;\n",
       "    }\n",
       "</style>\n",
       "<table border=\"1\" class=\"dataframe\">\n",
       "  <thead>\n",
       "    <tr style=\"text-align: right;\">\n",
       "      <th></th>\n",
       "      <th>overall</th>\n",
       "      <th>review</th>\n",
       "      <th>user_classification</th>\n",
       "      <th>value</th>\n",
       "    </tr>\n",
       "  </thead>\n",
       "  <tbody>\n",
       "    <tr>\n",
       "      <th>0</th>\n",
       "      <td>5</td>\n",
       "      <td>hi, wicked sub/amp.. i can use more speakers w...</td>\n",
       "      <td>Casual Listener [Nov 29, 2012]</td>\n",
       "      <td>4</td>\n",
       "    </tr>\n",
       "    <tr>\n",
       "      <th>1</th>\n",
       "      <td>2</td>\n",
       "      <td>I just purchase this subwoofer because I wante...</td>\n",
       "      <td>AudioPhile [Jan 27, 2011]</td>\n",
       "      <td>2</td>\n",
       "    </tr>\n",
       "    <tr>\n",
       "      <th>2</th>\n",
       "      <td>3</td>\n",
       "      <td>Thought I'd throw in a recent comment or two i...</td>\n",
       "      <td>Audio Enthusiast [Dec 26, 2010]</td>\n",
       "      <td>3</td>\n",
       "    </tr>\n",
       "    <tr>\n",
       "      <th>3</th>\n",
       "      <td>5</td>\n",
       "      <td>Very Clean Powerful Bass\\rThe Build quality is...</td>\n",
       "      <td>AudioPhile [Jun 28, 2006]</td>\n",
       "      <td>5</td>\n",
       "    </tr>\n",
       "    <tr>\n",
       "      <th>4</th>\n",
       "      <td>4</td>\n",
       "      <td>Clean, detailed, and articulate. They have spe...</td>\n",
       "      <td>Audio Enthusiast [Jun 18, 2003]</td>\n",
       "      <td>4</td>\n",
       "    </tr>\n",
       "  </tbody>\n",
       "</table>\n",
       "</div>"
      ],
      "text/plain": [
       "   overall                                             review  \\\n",
       "0        5  hi, wicked sub/amp.. i can use more speakers w...   \n",
       "1        2  I just purchase this subwoofer because I wante...   \n",
       "2        3  Thought I'd throw in a recent comment or two i...   \n",
       "3        5  Very Clean Powerful Bass\\rThe Build quality is...   \n",
       "4        4  Clean, detailed, and articulate. They have spe...   \n",
       "\n",
       "               user_classification  value  \n",
       "0   Casual Listener [Nov 29, 2012]      4  \n",
       "1        AudioPhile [Jan 27, 2011]      2  \n",
       "2  Audio Enthusiast [Dec 26, 2010]      3  \n",
       "3        AudioPhile [Jun 28, 2006]      5  \n",
       "4  Audio Enthusiast [Jun 18, 2003]      4  "
      ]
     },
     "execution_count": 6,
     "metadata": {},
     "output_type": "execute_result"
    }
   ],
   "source": [
    "df = pd.DataFrame(lst)\n",
    "df.head() "
   ]
  },
  {
   "cell_type": "code",
   "execution_count": 7,
   "metadata": {},
   "outputs": [
    {
     "data": {
      "text/html": [
       "<div>\n",
       "<style scoped>\n",
       "    .dataframe tbody tr th:only-of-type {\n",
       "        vertical-align: middle;\n",
       "    }\n",
       "\n",
       "    .dataframe tbody tr th {\n",
       "        vertical-align: top;\n",
       "    }\n",
       "\n",
       "    .dataframe thead th {\n",
       "        text-align: right;\n",
       "    }\n",
       "</style>\n",
       "<table border=\"1\" class=\"dataframe\">\n",
       "  <thead>\n",
       "    <tr style=\"text-align: right;\">\n",
       "      <th></th>\n",
       "      <th>user_classification</th>\n",
       "      <th>date</th>\n",
       "    </tr>\n",
       "  </thead>\n",
       "  <tbody>\n",
       "    <tr>\n",
       "      <th>0</th>\n",
       "      <td>Casual Listener</td>\n",
       "      <td>2012-11-29</td>\n",
       "    </tr>\n",
       "    <tr>\n",
       "      <th>1</th>\n",
       "      <td>AudioPhile</td>\n",
       "      <td>2011-01-27</td>\n",
       "    </tr>\n",
       "    <tr>\n",
       "      <th>2</th>\n",
       "      <td>Audio Enthusiast</td>\n",
       "      <td>2010-12-26</td>\n",
       "    </tr>\n",
       "    <tr>\n",
       "      <th>3</th>\n",
       "      <td>AudioPhile</td>\n",
       "      <td>2006-06-28</td>\n",
       "    </tr>\n",
       "    <tr>\n",
       "      <th>4</th>\n",
       "      <td>Audio Enthusiast</td>\n",
       "      <td>2003-06-18</td>\n",
       "    </tr>\n",
       "  </tbody>\n",
       "</table>\n",
       "</div>"
      ],
      "text/plain": [
       "  user_classification       date\n",
       "0    Casual Listener  2012-11-29\n",
       "1         AudioPhile  2011-01-27\n",
       "2   Audio Enthusiast  2010-12-26\n",
       "3         AudioPhile  2006-06-28\n",
       "4   Audio Enthusiast  2003-06-18"
      ]
     },
     "execution_count": 7,
     "metadata": {},
     "output_type": "execute_result"
    }
   ],
   "source": [
    "extr = df.user_classification.str.extract(r'(?P<user_classification>^[^[]+)\\[(?P<date>[^[]+)\\]', expand=True)\n",
    "extr['date'] = extr.date.map(dateparse)\n",
    "extr.head() "
   ]
  },
  {
   "cell_type": "code",
   "execution_count": 8,
   "metadata": {},
   "outputs": [
    {
     "data": {
      "text/html": [
       "<div>\n",
       "<style scoped>\n",
       "    .dataframe tbody tr th:only-of-type {\n",
       "        vertical-align: middle;\n",
       "    }\n",
       "\n",
       "    .dataframe tbody tr th {\n",
       "        vertical-align: top;\n",
       "    }\n",
       "\n",
       "    .dataframe thead th {\n",
       "        text-align: right;\n",
       "    }\n",
       "</style>\n",
       "<table border=\"1\" class=\"dataframe\">\n",
       "  <thead>\n",
       "    <tr style=\"text-align: right;\">\n",
       "      <th></th>\n",
       "      <th>overall</th>\n",
       "      <th>review</th>\n",
       "      <th>user_classification</th>\n",
       "      <th>value</th>\n",
       "      <th>date</th>\n",
       "    </tr>\n",
       "  </thead>\n",
       "  <tbody>\n",
       "    <tr>\n",
       "      <th>0</th>\n",
       "      <td>5</td>\n",
       "      <td>hi, wicked sub/amp.. i can use more speakers w...</td>\n",
       "      <td>Casual Listener</td>\n",
       "      <td>4</td>\n",
       "      <td>2012-11-29</td>\n",
       "    </tr>\n",
       "    <tr>\n",
       "      <th>1</th>\n",
       "      <td>2</td>\n",
       "      <td>I just purchase this subwoofer because I wante...</td>\n",
       "      <td>AudioPhile</td>\n",
       "      <td>2</td>\n",
       "      <td>2011-01-27</td>\n",
       "    </tr>\n",
       "    <tr>\n",
       "      <th>2</th>\n",
       "      <td>3</td>\n",
       "      <td>Thought I'd throw in a recent comment or two i...</td>\n",
       "      <td>Audio Enthusiast</td>\n",
       "      <td>3</td>\n",
       "      <td>2010-12-26</td>\n",
       "    </tr>\n",
       "    <tr>\n",
       "      <th>3</th>\n",
       "      <td>5</td>\n",
       "      <td>Very Clean Powerful Bass\\rThe Build quality is...</td>\n",
       "      <td>AudioPhile</td>\n",
       "      <td>5</td>\n",
       "      <td>2006-06-28</td>\n",
       "    </tr>\n",
       "    <tr>\n",
       "      <th>4</th>\n",
       "      <td>4</td>\n",
       "      <td>Clean, detailed, and articulate. They have spe...</td>\n",
       "      <td>Audio Enthusiast</td>\n",
       "      <td>4</td>\n",
       "      <td>2003-06-18</td>\n",
       "    </tr>\n",
       "  </tbody>\n",
       "</table>\n",
       "</div>"
      ],
      "text/plain": [
       "   overall                                             review  \\\n",
       "0        5  hi, wicked sub/amp.. i can use more speakers w...   \n",
       "1        2  I just purchase this subwoofer because I wante...   \n",
       "2        3  Thought I'd throw in a recent comment or two i...   \n",
       "3        5  Very Clean Powerful Bass\\rThe Build quality is...   \n",
       "4        4  Clean, detailed, and articulate. They have spe...   \n",
       "\n",
       "  user_classification  value       date  \n",
       "0    Casual Listener       4 2012-11-29  \n",
       "1         AudioPhile       2 2011-01-27  \n",
       "2   Audio Enthusiast       3 2010-12-26  \n",
       "3         AudioPhile       5 2006-06-28  \n",
       "4   Audio Enthusiast       4 2003-06-18  "
      ]
     },
     "execution_count": 8,
     "metadata": {},
     "output_type": "execute_result"
    }
   ],
   "source": [
    "df[['user_classification', 'date']] = extr\n",
    "df.head() "
   ]
  },
  {
   "cell_type": "code",
   "execution_count": 50,
   "metadata": {},
   "outputs": [
    {
     "data": {
      "image/png": "[encoded data removed]",
      "text/plain": [
       "<matplotlib.figure.Figure at 0x10e800a20>"
      ]
     },
     "metadata": {},
     "output_type": "display_data"
    }
   ],
   "source": [
    "tmp = df.user_classification.value_counts().plot.barh(color='cadetblue')"
   ]
  },
  {
   "cell_type": "code",
   "execution_count": 26,
   "metadata": {},
   "outputs": [],
   "source": [
    "ucr = df.groupby('user_classification').agg(['mean', 'std'])"
   ]
  },
  {
   "cell_type": "code",
   "execution_count": 32,
   "metadata": {},
   "outputs": [
    {
     "data": {
      "text/html": [
       "<div>\n",
       "<style scoped>\n",
       "    .dataframe tbody tr th:only-of-type {\n",
       "        vertical-align: middle;\n",
       "    }\n",
       "\n",
       "    .dataframe tbody tr th {\n",
       "        vertical-align: top;\n",
       "    }\n",
       "\n",
       "    .dataframe thead tr th {\n",
       "        text-align: left;\n",
       "    }\n",
       "\n",
       "    .dataframe thead tr:last-of-type th {\n",
       "        text-align: right;\n",
       "    }\n",
       "</style>\n",
       "<table border=\"1\" class=\"dataframe\">\n",
       "  <thead>\n",
       "    <tr>\n",
       "      <th></th>\n",
       "      <th colspan=\"2\" halign=\"left\">overall</th>\n",
       "      <th colspan=\"2\" halign=\"left\">value</th>\n",
       "    </tr>\n",
       "    <tr>\n",
       "      <th></th>\n",
       "      <th>mean</th>\n",
       "      <th>std</th>\n",
       "      <th>mean</th>\n",
       "      <th>std</th>\n",
       "    </tr>\n",
       "    <tr>\n",
       "      <th>user_classification</th>\n",
       "      <th></th>\n",
       "      <th></th>\n",
       "      <th></th>\n",
       "      <th></th>\n",
       "    </tr>\n",
       "  </thead>\n",
       "  <tbody>\n",
       "    <tr>\n",
       "      <th>Audio Enthusiast</th>\n",
       "      <td>4.428571</td>\n",
       "      <td>0.739066</td>\n",
       "      <td>4.428571</td>\n",
       "      <td>0.739066</td>\n",
       "    </tr>\n",
       "    <tr>\n",
       "      <th>AudioPhile</th>\n",
       "      <td>3.500000</td>\n",
       "      <td>1.581139</td>\n",
       "      <td>3.500000</td>\n",
       "      <td>1.581139</td>\n",
       "    </tr>\n",
       "    <tr>\n",
       "      <th>Casual Listener</th>\n",
       "      <td>5.000000</td>\n",
       "      <td>0.000000</td>\n",
       "      <td>4.000000</td>\n",
       "      <td>0.000000</td>\n",
       "    </tr>\n",
       "  </tbody>\n",
       "</table>\n",
       "</div>"
      ],
      "text/plain": [
       "                      overall               value          \n",
       "                         mean       std      mean       std\n",
       "user_classification                                        \n",
       "Audio Enthusiast     4.428571  0.739066  4.428571  0.739066\n",
       "AudioPhile           3.500000  1.581139  3.500000  1.581139\n",
       "Casual Listener      5.000000  0.000000  4.000000  0.000000"
      ]
     },
     "execution_count": 32,
     "metadata": {},
     "output_type": "execute_result"
    }
   ],
   "source": [
    "ucr"
   ]
  },
  {
   "cell_type": "code",
   "execution_count": 55,
   "metadata": {},
   "outputs": [
    {
     "data": {
      "text/plain": [
       "Text(0.5,1,'Value')"
      ]
     },
     "execution_count": 55,
     "metadata": {},
     "output_type": "execute_result"
    },
    {
     "data": {
      "image/png": "[encoded data removed]",
      "text/plain": [
       "<matplotlib.figure.Figure at 0x1125134a8>"
      ]
     },
     "metadata": {},
     "output_type": "display_data"
    }
   ],
   "source": [
    "fig, (ax1, ax2) = plt.subplots(1, 2)\n",
    "\n",
    "ucr.overall['mean'].plot.barh(color='mediumseagreen', xerr=ucr.overall['std'], ax=ax1)\n",
    "ucr.value['mean'].plot.barh(color='teal', xerr=ucr.value['std'], ax=ax2)\n",
    "ax1.set_title('Overall')\n",
    "ax2.set_title('Value')"
   ]
  },
  {
   "cell_type": "code",
   "execution_count": null,
   "metadata": {},
   "outputs": [],
   "source": []
  },
  {
   "cell_type": "code",
   "execution_count": null,
   "metadata": {},
   "outputs": [],
   "source": []
  },
  {
   "cell_type": "code",
   "execution_count": null,
   "metadata": {},
   "outputs": [],
   "source": []
  }
 ],
 "metadata": {
  "kernelspec": {
   "display_name": "Python 3",
   "language": "python",
   "name": "python3"
  },
  "language_info": {
   "codemirror_mode": {
    "name": "ipython",
    "version": 3
   },
   "file_extension": ".py",
   "mimetype": "text/x-python",
   "name": "python",
   "nbconvert_exporter": "python",
   "pygments_lexer": "ipython3",
   "version": "3.6.3"
  }
 },
 "nbformat": 4,
 "nbformat_minor": 2
}
